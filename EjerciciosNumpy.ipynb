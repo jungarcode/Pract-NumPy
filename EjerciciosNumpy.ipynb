{
 "cells": [
  {
   "cell_type": "code",
   "execution_count": 2,
   "id": "054884e8-2ca9-48c1-aefa-546189cbb796",
   "metadata": {},
   "outputs": [],
   "source": [
    "import numpy as np"
   ]
  },
  {
   "cell_type": "markdown",
   "id": "6f66286a-1904-4f1a-ae42-6aa8dd6ccbcf",
   "metadata": {},
   "source": [
    "## Ejercicios"
   ]
  },
  {
   "cell_type": "markdown",
   "id": "52a50154-4486-4f91-8083-5797b3c7747b",
   "metadata": {},
   "source": [
    "### 1. Multiplicar elementos de dos arreglos"
   ]
  },
  {
   "cell_type": "code",
   "execution_count": 3,
   "id": "9a278983-4aaa-4747-b1b4-a994a74656d6",
   "metadata": {},
   "outputs": [],
   "source": [
    "arre1 = np.array([1,2,3,4])\n",
    "arre2 = np.array([5,6,7,8])"
   ]
  },
  {
   "cell_type": "code",
   "execution_count": 4,
   "id": "c3da6639-a101-4546-9602-a30c0aef93e6",
   "metadata": {},
   "outputs": [
    {
     "data": {
      "text/plain": [
       "array([ 5, 12, 21, 32])"
      ]
     },
     "execution_count": 4,
     "metadata": {},
     "output_type": "execute_result"
    }
   ],
   "source": [
    "arre1*arre2"
   ]
  },
  {
   "cell_type": "markdown",
   "id": "3277c748-beb0-4be9-b1f2-768dfb4dc1c6",
   "metadata": {},
   "source": [
    "### 2. Crear matriz 3x5 con valores de 1 al 15"
   ]
  },
  {
   "cell_type": "code",
   "execution_count": 5,
   "id": "7b6c30c0-d143-4224-bbec-f5672a057603",
   "metadata": {},
   "outputs": [
    {
     "data": {
      "text/plain": [
       "array([[ 1,  2,  3,  4,  5],\n",
       "       [ 6,  7,  8,  9, 10],\n",
       "       [11, 12, 13, 14, 15]])"
      ]
     },
     "execution_count": 5,
     "metadata": {},
     "output_type": "execute_result"
    }
   ],
   "source": [
    "matriz = np.arange(1,16).reshape((3,5))\n",
    "matriz"
   ]
  },
  {
   "cell_type": "markdown",
   "id": "83e402d8-b22f-42a4-b85d-3e45a9b23095",
   "metadata": {},
   "source": [
    "### 3.Obtener la cantidad de filas y columnas de la matriz anterior"
   ]
  },
  {
   "cell_type": "code",
   "execution_count": 6,
   "id": "9aa87d15-7962-4d85-801c-0cbb0c824287",
   "metadata": {},
   "outputs": [
    {
     "data": {
      "text/plain": [
       "(3, 5)"
      ]
     },
     "execution_count": 6,
     "metadata": {},
     "output_type": "execute_result"
    }
   ],
   "source": [
    "matriz.shape"
   ]
  },
  {
   "cell_type": "markdown",
   "id": "e0803fdb-3687-404e-9439-bb241fc31923",
   "metadata": {},
   "source": [
    "### 4.Crear matriz identidad de 4x4"
   ]
  },
  {
   "cell_type": "code",
   "execution_count": 7,
   "id": "3be172c2-4ef7-47fd-b79a-ec457f8db42b",
   "metadata": {},
   "outputs": [
    {
     "data": {
      "text/plain": [
       "array([[1., 0., 0., 0.],\n",
       "       [0., 1., 0., 0.],\n",
       "       [0., 0., 1., 0.],\n",
       "       [0., 0., 0., 1.]])"
      ]
     },
     "execution_count": 7,
     "metadata": {},
     "output_type": "execute_result"
    }
   ],
   "source": [
    "ident = np.identity(4) # 1 era forma\n",
    "ident"
   ]
  },
  {
   "cell_type": "code",
   "execution_count": 8,
   "id": "9905019b-b7da-44bd-a8bb-d5be1e3dd085",
   "metadata": {},
   "outputs": [
    {
     "data": {
      "text/plain": [
       "array([[1., 0., 0., 0.],\n",
       "       [0., 1., 0., 0.],\n",
       "       [0., 0., 1., 0.],\n",
       "       [0., 0., 0., 1.]])"
      ]
     },
     "execution_count": 8,
     "metadata": {},
     "output_type": "execute_result"
    }
   ],
   "source": [
    "ident = np.eye(4) # 2da forma\n",
    "ident"
   ]
  },
  {
   "cell_type": "markdown",
   "id": "99b84b46-2017-44de-bf0a-1fc2d5619cbd",
   "metadata": {},
   "source": [
    "### 5. Crear arreglo de 3 dimenciones con valores aleatorios"
   ]
  },
  {
   "cell_type": "code",
   "execution_count": 9,
   "id": "e0b54dcc-d281-4002-84c2-9efa6ae0d432",
   "metadata": {},
   "outputs": [
    {
     "data": {
      "text/plain": [
       "array([[[0.30926223, 0.94623752, 0.3849156 ],\n",
       "        [0.89643381, 0.44926546, 0.23532022],\n",
       "        [0.08421311, 0.33996294, 0.78974773]],\n",
       "\n",
       "       [[0.58489407, 0.96304419, 0.63638994],\n",
       "        [0.27437592, 0.75537329, 0.34083447],\n",
       "        [0.8086836 , 0.90708457, 0.32033813]],\n",
       "\n",
       "       [[0.05188962, 0.66170693, 0.80804079],\n",
       "        [0.67409894, 0.66185687, 0.96393122],\n",
       "        [0.50545792, 0.13919871, 0.64799598]]])"
      ]
     },
     "execution_count": 9,
     "metadata": {},
     "output_type": "execute_result"
    }
   ],
   "source": [
    "arr = np.random.random((3,3,3))\n",
    "arr"
   ]
  },
  {
   "cell_type": "markdown",
   "id": "1c6dc130-7ed9-4ca9-b431-e709e0df1cff",
   "metadata": {},
   "source": [
    "### 6.Sumar todos los valores de la matriz anterior y los valores de la primera matriz"
   ]
  },
  {
   "cell_type": "code",
   "execution_count": 10,
   "id": "58e8611c-52fd-46ff-bc52-2d07889e8601",
   "metadata": {},
   "outputs": [
    {
     "data": {
      "text/plain": [
       "15.140553766216678"
      ]
     },
     "execution_count": 10,
     "metadata": {},
     "output_type": "execute_result"
    }
   ],
   "source": [
    "np.sum(arr[:])"
   ]
  },
  {
   "cell_type": "code",
   "execution_count": 11,
   "id": "ec448ae3-6c46-45fd-84bb-1f4222146823",
   "metadata": {},
   "outputs": [
    {
     "data": {
      "text/plain": [
       "4.435358606125305"
      ]
     },
     "execution_count": 11,
     "metadata": {},
     "output_type": "execute_result"
    }
   ],
   "source": [
    "np.sum(arr[0])"
   ]
  },
  {
   "cell_type": "markdown",
   "id": "165e316c-a46b-4834-92d6-655473778460",
   "metadata": {},
   "source": [
    "### 7. Crear una matriz 3x3 y sumar las filas y columnas "
   ]
  },
  {
   "cell_type": "code",
   "execution_count": 12,
   "id": "1bc9d329-daad-47ed-9ea3-fdd27d7efbe1",
   "metadata": {},
   "outputs": [
    {
     "data": {
      "text/plain": [
       "array([[1, 2, 3],\n",
       "       [4, 5, 6]])"
      ]
     },
     "execution_count": 12,
     "metadata": {},
     "output_type": "execute_result"
    }
   ],
   "source": [
    "matriz = np.array([[1,2,3],[4,5,6]])\n",
    "matriz"
   ]
  },
  {
   "cell_type": "code",
   "execution_count": 13,
   "id": "598ba38d-d073-4916-8129-f7508fcbcba8",
   "metadata": {},
   "outputs": [
    {
     "data": {
      "text/plain": [
       "21"
      ]
     },
     "execution_count": 13,
     "metadata": {},
     "output_type": "execute_result"
    }
   ],
   "source": [
    "np.sum(matriz)"
   ]
  },
  {
   "cell_type": "code",
   "execution_count": 14,
   "id": "139972df-def1-4e5c-9402-2bccfa64667f",
   "metadata": {},
   "outputs": [
    {
     "data": {
      "text/plain": [
       "array([5, 7, 9])"
      ]
     },
     "execution_count": 14,
     "metadata": {},
     "output_type": "execute_result"
    }
   ],
   "source": [
    "np.sum(matriz, axis=0) # suma por columnas"
   ]
  },
  {
   "cell_type": "code",
   "execution_count": 15,
   "id": "0392af0e-67fb-4e23-8216-60d2fb80dfc0",
   "metadata": {},
   "outputs": [
    {
     "data": {
      "text/plain": [
       "array([ 6, 15])"
      ]
     },
     "execution_count": 15,
     "metadata": {},
     "output_type": "execute_result"
    }
   ],
   "source": [
    "np.sum(matriz, axis=1) # sumar por filas"
   ]
  },
  {
   "cell_type": "markdown",
   "id": "ac61213b-d67e-4144-b2ba-c39572d442f7",
   "metadata": {},
   "source": [
    "### 8. Crear un arreglo a partir de una lista"
   ]
  },
  {
   "cell_type": "code",
   "execution_count": 16,
   "id": "ffbfabfb-b451-4cec-ad4a-ab640a6c6b9c",
   "metadata": {},
   "outputs": [
    {
     "data": {
      "text/plain": [
       "[1, 4, 11, 5, 8]"
      ]
     },
     "execution_count": 16,
     "metadata": {},
     "output_type": "execute_result"
    }
   ],
   "source": [
    "lista = [1,4,11,5,8]\n",
    "lista"
   ]
  },
  {
   "cell_type": "code",
   "execution_count": 17,
   "id": "2f712c95-d0ff-4dc2-97be-09d5373534d3",
   "metadata": {},
   "outputs": [
    {
     "data": {
      "text/plain": [
       "array([ 1,  4, 11,  5,  8])"
      ]
     },
     "execution_count": 17,
     "metadata": {},
     "output_type": "execute_result"
    }
   ],
   "source": [
    "arreglo = np.array(lista)\n",
    "arreglo"
   ]
  },
  {
   "cell_type": "markdown",
   "id": "5e6e6368-5e91-4c2d-8542-1beeaea54657",
   "metadata": {},
   "source": [
    "### 9. Crear una grafica a partir de las coordenadas generadas por NumPy"
   ]
  },
  {
   "cell_type": "code",
   "execution_count": 18,
   "id": "ddcf5c9e-1af7-440e-a7d2-3abe46288a58",
   "metadata": {},
   "outputs": [
    {
     "name": "stderr",
     "output_type": "stream",
     "text": [
      "Matplotlib is building the font cache; this may take a moment.\n"
     ]
    }
   ],
   "source": [
    "import matplotlib.pyplot as plt"
   ]
  },
  {
   "cell_type": "code",
   "execution_count": 19,
   "id": "edad233b-acdf-4ab7-adf4-9ce38e340001",
   "metadata": {},
   "outputs": [],
   "source": [
    "x = np.arange(0,3*np.pi,0.2)\n",
    "y = np.sin(x)"
   ]
  },
  {
   "cell_type": "code",
   "execution_count": 20,
   "id": "c49d736a-a133-45c7-84bf-445e54bc5636",
   "metadata": {},
   "outputs": [
    {
     "data": {
      "text/plain": [
       "(array([0. , 0.2, 0.4, 0.6, 0.8, 1. , 1.2, 1.4, 1.6, 1.8, 2. , 2.2, 2.4,\n",
       "        2.6, 2.8, 3. , 3.2, 3.4, 3.6, 3.8, 4. , 4.2, 4.4, 4.6, 4.8, 5. ,\n",
       "        5.2, 5.4, 5.6, 5.8, 6. , 6.2, 6.4, 6.6, 6.8, 7. , 7.2, 7.4, 7.6,\n",
       "        7.8, 8. , 8.2, 8.4, 8.6, 8.8, 9. , 9.2, 9.4]),\n",
       " array([ 0.        ,  0.19866933,  0.38941834,  0.56464247,  0.71735609,\n",
       "         0.84147098,  0.93203909,  0.98544973,  0.9995736 ,  0.97384763,\n",
       "         0.90929743,  0.8084964 ,  0.67546318,  0.51550137,  0.33498815,\n",
       "         0.14112001, -0.05837414, -0.2555411 , -0.44252044, -0.61185789,\n",
       "        -0.7568025 , -0.87157577, -0.95160207, -0.993691  , -0.99616461,\n",
       "        -0.95892427, -0.88345466, -0.77276449, -0.63126664, -0.46460218,\n",
       "        -0.2794155 , -0.0830894 ,  0.1165492 ,  0.31154136,  0.49411335,\n",
       "         0.6569866 ,  0.79366786,  0.8987081 ,  0.96791967,  0.99854335,\n",
       "         0.98935825,  0.94073056,  0.85459891,  0.7343971 ,  0.58491719,\n",
       "         0.41211849,  0.22288991,  0.02477543]))"
      ]
     },
     "execution_count": 20,
     "metadata": {},
     "output_type": "execute_result"
    }
   ],
   "source": [
    "x,y"
   ]
  },
  {
   "cell_type": "code",
   "execution_count": 22,
   "id": "f2a6ca4c-1c42-4fd0-a8a0-f7c87b77a9d4",
   "metadata": {},
   "outputs": [
    {
     "data": {
      "image/png": "[encoded data removed]",
      "text/plain": [
       "<Figure size 432x288 with 1 Axes>"
      ]
     },
     "metadata": {
      "needs_background": "light"
     },
     "output_type": "display_data"
    }
   ],
   "source": [
    "plt.plot(x,y)\n",
    "plt.show()"
   ]
  },
  {
   "cell_type": "code",
   "execution_count": null,
   "id": "38103598-7d0c-4fe4-a0ba-8027e973b4cd",
   "metadata": {},
   "outputs": [],
   "source": []
  }
 ],
 "metadata": {
  "kernelspec": {
   "display_name": "Python 3",
   "language": "python",
   "name": "python3"
  },
  "language_info": {
   "codemirror_mode": {
    "name": "ipython",
    "version": 3
   },
   "file_extension": ".py",
   "mimetype": "text/x-python",
   "name": "python",
   "nbconvert_exporter": "python",
   "pygments_lexer": "ipython3",
   "version": "3.8.8"
  }
 },
 "nbformat": 4,
 "nbformat_minor": 5
}
