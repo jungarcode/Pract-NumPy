{
 "cells": [
  {
   "cell_type": "code",
   "execution_count": 3,
   "id": "3aa4592a-7163-4827-9c52-b213db6619c9",
   "metadata": {},
   "outputs": [],
   "source": [
    "import numpy as np"
   ]
  },
  {
   "cell_type": "code",
   "execution_count": 4,
   "id": "38fe5877-5b44-41ee-a03d-896d21c026c3",
   "metadata": {},
   "outputs": [
    {
     "data": {
      "text/plain": [
       "array([1, 2, 3, 4, 5])"
      ]
     },
     "execution_count": 4,
     "metadata": {},
     "output_type": "execute_result"
    }
   ],
   "source": [
    "matriz = np.array([1,2,3,4,5])\n",
    "matriz"
   ]
  },
  {
   "cell_type": "code",
   "execution_count": 5,
   "id": "4ed78204-4e18-460b-9c3f-4f817998887d",
   "metadata": {},
   "outputs": [
    {
     "data": {
      "text/plain": [
       "array([[1, 2, 4],\n",
       "       [4, 5, 6]])"
      ]
     },
     "execution_count": 5,
     "metadata": {},
     "output_type": "execute_result"
    }
   ],
   "source": [
    "matriz = np.array([[1,2,4,],[4,5,6,]])\n",
    "matriz"
   ]
  },
  {
   "cell_type": "code",
   "execution_count": 6,
   "id": "b351caa5-1501-468c-b2b7-185b3b6ec894",
   "metadata": {},
   "outputs": [
    {
     "data": {
      "text/plain": [
       "15"
      ]
     },
     "execution_count": 6,
     "metadata": {},
     "output_type": "execute_result"
    }
   ],
   "source": [
    "matriz = np.arange(15).reshape(3,5)\n",
    "matriz\n",
    "matriz.shape # cuantas filas y columnas tiene disponible la matriz\n",
    "matriz.ndim # el numero de dimensiones de la matriz\n",
    "matriz.size # l numero totral de elementos que posee la matriz"
   ]
  },
  {
   "cell_type": "code",
   "execution_count": 7,
   "id": "0f929b99-b060-4bfd-b827-c27fcf0d6a99",
   "metadata": {},
   "outputs": [
    {
     "data": {
      "text/plain": [
       "array([[[ 0,  1,  2],\n",
       "        [ 3,  4,  5],\n",
       "        [ 6,  7,  8]],\n",
       "\n",
       "       [[ 9, 10, 11],\n",
       "        [12, 13, 14],\n",
       "        [15, 16, 17]],\n",
       "\n",
       "       [[18, 19, 20],\n",
       "        [21, 22, 23],\n",
       "        [24, 25, 26]]])"
      ]
     },
     "execution_count": 7,
     "metadata": {},
     "output_type": "execute_result"
    }
   ],
   "source": [
    "matriz = np.arange(27).reshape(3,3,3)\n",
    "matriz"
   ]
  },
  {
   "cell_type": "code",
   "execution_count": 8,
   "id": "8836b171-833a-4e40-8d36-a1329cc37d1a",
   "metadata": {},
   "outputs": [
    {
     "data": {
      "text/plain": [
       "array([ 5,  7,  9, 11, 13])"
      ]
     },
     "execution_count": 8,
     "metadata": {},
     "output_type": "execute_result"
    }
   ],
   "source": [
    "m1 = np.array([0,1,2,3,4])\n",
    "m2= np.array([5,6,7,8,9])\n",
    "m1+m2"
   ]
  },
  {
   "cell_type": "markdown",
   "id": "26df0731-570a-4c27-bf8f-7c4fe0165e4d",
   "metadata": {},
   "source": [
    "### version de Numpy"
   ]
  },
  {
   "cell_type": "code",
   "execution_count": 9,
   "id": "c5282b01-1e1e-4618-873c-bd576c52d033",
   "metadata": {},
   "outputs": [
    {
     "data": {
      "text/plain": [
       "'1.20.1'"
      ]
     },
     "execution_count": 9,
     "metadata": {},
     "output_type": "execute_result"
    }
   ],
   "source": [
    "np.__version__"
   ]
  },
  {
   "cell_type": "code",
   "execution_count": 10,
   "id": "2974207a-297a-4fbc-be7c-8271c035d737",
   "metadata": {},
   "outputs": [
    {
     "data": {
      "text/plain": [
       "array([0., 0., 0., 0., 0., 0., 0., 0., 0., 0.])"
      ]
     },
     "execution_count": 10,
     "metadata": {},
     "output_type": "execute_result"
    }
   ],
   "source": [
    "cero = np.zeros(10)\n",
    "cero"
   ]
  },
  {
   "cell_type": "code",
   "execution_count": 11,
   "id": "3f67479e-8017-4fd8-8fa1-ac44b9f82618",
   "metadata": {},
   "outputs": [
    {
     "data": {
      "text/plain": [
       "array([1., 1., 1., 1., 1., 1., 1., 1., 1., 1.])"
      ]
     },
     "execution_count": 11,
     "metadata": {},
     "output_type": "execute_result"
    }
   ],
   "source": [
    "one = np.ones(10)\n",
    "one"
   ]
  },
  {
   "cell_type": "code",
   "execution_count": 12,
   "id": "7550846c-5374-4230-81e4-bc605c1f1352",
   "metadata": {},
   "outputs": [
    {
     "data": {
      "text/plain": [
       "array([8., 8., 8., 8., 8., 8., 8., 8., 8., 8.])"
      ]
     },
     "execution_count": 12,
     "metadata": {},
     "output_type": "execute_result"
    }
   ],
   "source": [
    "one = np.ones(10)*8\n",
    "one"
   ]
  },
  {
   "cell_type": "raw",
   "id": "72005bca-23b1-45f7-b83c-aba6017c658a",
   "metadata": {},
   "source": []
  },
  {
   "cell_type": "markdown",
   "id": "66f1cfb2-b119-4ea4-833d-362bbb96947a",
   "metadata": {},
   "source": [
    "### Funcion arange()"
   ]
  },
  {
   "cell_type": "code",
   "execution_count": 13,
   "id": "d081734c-d5fe-4992-b6d9-792734d571c1",
   "metadata": {},
   "outputs": [
    {
     "data": {
      "text/plain": [
       "array([20, 21, 22, 23, 24, 25, 26, 27, 28, 29, 30, 31, 32, 33, 34, 35, 36,\n",
       "       37, 38, 39, 40, 41, 42, 43, 44, 45, 46, 47, 48, 49, 50])"
      ]
     },
     "execution_count": 13,
     "metadata": {},
     "output_type": "execute_result"
    }
   ],
   "source": [
    "ar = np.arange(20,51)\n",
    "ar\n"
   ]
  },
  {
   "cell_type": "code",
   "execution_count": 14,
   "id": "f5884af3-985f-4fd0-ae92-0147daeaa10a",
   "metadata": {},
   "outputs": [
    {
     "data": {
      "text/plain": [
       "array([20, 22, 24, 26, 28, 30, 32, 34, 36, 38, 40, 42, 44, 46, 48, 50])"
      ]
     },
     "execution_count": 14,
     "metadata": {},
     "output_type": "execute_result"
    }
   ],
   "source": [
    "ar = np.arange(20,51,2) # numeros pares\n",
    "ar"
   ]
  },
  {
   "cell_type": "code",
   "execution_count": 15,
   "id": "f02dd565-3131-42a0-9aed-9f4abf3768a2",
   "metadata": {},
   "outputs": [
    {
     "data": {
      "text/plain": [
       "array([ 0,  1,  2,  3,  4,  5,  6,  7,  8,  9, 10, 11, 12, 13, 14, 15, 16,\n",
       "       17, 18, 19])"
      ]
     },
     "execution_count": 15,
     "metadata": {},
     "output_type": "execute_result"
    }
   ],
   "source": [
    "ar = np.arange(0,20)\n",
    "ar"
   ]
  },
  {
   "cell_type": "code",
   "execution_count": 16,
   "id": "7f13b766-92b2-438b-9c9b-f080fd01d1b5",
   "metadata": {},
   "outputs": [
    {
     "data": {
      "text/plain": [
       "array([15, 16, 17, 18, 19, 20, 21, 22, 23, 24, 25, 26, 27, 28, 29, 30, 31,\n",
       "       32, 33, 34, 35, 36, 37, 38, 39, 40, 41, 42, 43, 44, 45, 46, 47, 48,\n",
       "       49, 50, 51, 52, 53, 54])"
      ]
     },
     "execution_count": 16,
     "metadata": {},
     "output_type": "execute_result"
    }
   ],
   "source": [
    "ar = np.arange(15,55)\n",
    "ar"
   ]
  },
  {
   "cell_type": "code",
   "execution_count": 17,
   "id": "f8009403-63b7-463c-b5f5-2bd71cea8e7a",
   "metadata": {},
   "outputs": [
    {
     "data": {
      "text/plain": [
       "array([16, 17, 18, 19, 20, 21, 22, 23, 24, 25, 26, 27, 28, 29, 30, 31, 32,\n",
       "       33, 34, 35, 36, 37, 38, 39, 40, 41, 42, 43, 44, 45, 46, 47, 48, 49,\n",
       "       50, 51, 52, 53])"
      ]
     },
     "execution_count": 17,
     "metadata": {},
     "output_type": "execute_result"
    }
   ],
   "source": [
    "ar[1:-1]"
   ]
  },
  {
   "cell_type": "code",
   "execution_count": 18,
   "id": "4f4fb8da-d69c-427a-b60e-1abe9646e0d0",
   "metadata": {},
   "outputs": [
    {
     "data": {
      "text/plain": [
       "array([[ 1,  2,  3],\n",
       "       [ 4,  5,  6],\n",
       "       [ 7,  8,  9],\n",
       "       [10, 11, 12]])"
      ]
     },
     "execution_count": 18,
     "metadata": {},
     "output_type": "execute_result"
    }
   ],
   "source": [
    "matriz = np.arange(1,13).reshape((4,3))#dimenciones a la matriz\n",
    "matriz"
   ]
  },
  {
   "cell_type": "code",
   "execution_count": 19,
   "id": "38cb05d4-054d-4430-8ad6-dc5d73c2fe94",
   "metadata": {},
   "outputs": [
    {
     "name": "stdout",
     "output_type": "stream",
     "text": [
      "1 2 3 4 5 6 7 8 9 10 11 12 "
     ]
    }
   ],
   "source": [
    "for elemento in np.nditer(matriz):#iterar los elementos dentro de la matriz\n",
    "    print(elemento,end = ' ')"
   ]
  },
  {
   "cell_type": "markdown",
   "id": "bddaca97-0d99-44b3-b1e7-496897842e2a",
   "metadata": {},
   "source": [
    "### linspace (distribucion uniforme)"
   ]
  },
  {
   "cell_type": "code",
   "execution_count": 24,
   "id": "51ca58c5-30b2-46f9-a473-f0e9f117e684",
   "metadata": {},
   "outputs": [
    {
     "data": {
      "text/plain": [
       "array([10., 20., 30., 40., 50.])"
      ]
     },
     "execution_count": 24,
     "metadata": {},
     "output_type": "execute_result"
    }
   ],
   "source": [
    "arre = np.linspace(10,50,5) \n",
    "arre"
   ]
  },
  {
   "cell_type": "markdown",
   "id": "58f3b4b1-b30e-4c4b-bcff-c67c7844a2ed",
   "metadata": {},
   "source": [
    "### Identidad"
   ]
  },
  {
   "cell_type": "code",
   "execution_count": 21,
   "id": "6c73fbc1-ddc7-497e-a65d-c403222df848",
   "metadata": {},
   "outputs": [
    {
     "data": {
      "text/plain": [
       "array([[1., 0., 0.],\n",
       "       [0., 1., 0.],\n",
       "       [0., 0., 1.]])"
      ]
     },
     "execution_count": 21,
     "metadata": {},
     "output_type": "execute_result"
    }
   ],
   "source": [
    "ident = np.identity(3)\n",
    "ident"
   ]
  },
  {
   "cell_type": "markdown",
   "id": "1c1bd6af-da52-457a-84d9-69b2d77312a1",
   "metadata": {},
   "source": [
    "### Aleatorio"
   ]
  },
  {
   "cell_type": "code",
   "execution_count": 22,
   "id": "7086afef-c631-45f8-b37d-91cff2285adb",
   "metadata": {},
   "outputs": [
    {
     "data": {
      "text/plain": [
       "0.597680215222285"
      ]
     },
     "execution_count": 22,
     "metadata": {},
     "output_type": "execute_result"
    }
   ],
   "source": [
    "aleat = np.random.random()\n",
    "aleat"
   ]
  },
  {
   "cell_type": "code",
   "execution_count": 25,
   "id": "0679a552-a654-49a5-9607-d59e6dd7fff7",
   "metadata": {},
   "outputs": [
    {
     "data": {
      "text/plain": [
       "array([-1.71389958, -0.20603884, -0.1852869 ,  0.48663171,  0.71425085,\n",
       "        0.01842033,  0.34193833,  0.70186717,  0.78093523, -0.11558198])"
      ]
     },
     "execution_count": 25,
     "metadata": {},
     "output_type": "execute_result"
    }
   ],
   "source": [
    "aleat = np.random.normal(0,1,10)\n",
    "aleat"
   ]
  },
  {
   "cell_type": "code",
   "execution_count": null,
   "id": "d81063ff-98c4-41b6-adf8-7b63f8b2e4e2",
   "metadata": {},
   "outputs": [],
   "source": []
  },
  {
   "cell_type": "code",
   "execution_count": null,
   "id": "e2bfd852-d906-41e5-b85a-d30e06ae8418",
   "metadata": {},
   "outputs": [],
   "source": []
  }
 ],
 "metadata": {
  "kernelspec": {
   "display_name": "Python 3",
   "language": "python",
   "name": "python3"
  },
  "language_info": {
   "codemirror_mode": {
    "name": "ipython",
    "version": 3
   },
   "file_extension": ".py",
   "mimetype": "text/x-python",
   "name": "python",
   "nbconvert_exporter": "python",
   "pygments_lexer": "ipython3",
   "version": "3.8.8"
  }
 },
 "nbformat": 4,
 "nbformat_minor": 5
}
