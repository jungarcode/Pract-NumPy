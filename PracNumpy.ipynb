{
 "cells": [
  {
   "cell_type": "code",
   "execution_count": 10,
   "id": "3aa4592a-7163-4827-9c52-b213db6619c9",
   "metadata": {},
   "outputs": [],
   "source": [
    "import numpy as np\n",
    "import sys"
   ]
  },
  {
   "cell_type": "code",
   "execution_count": 4,
   "id": "38fe5877-5b44-41ee-a03d-896d21c026c3",
   "metadata": {},
   "outputs": [
    {
     "data": {
      "text/plain": [
       "array([1, 2, 3, 4, 5])"
      ]
     },
     "execution_count": 4,
     "metadata": {},
     "output_type": "execute_result"
    }
   ],
   "source": [
    "matriz = np.array([1,2,3,4,5])\n",
    "matriz"
   ]
  },
  {
   "cell_type": "code",
   "execution_count": 3,
   "id": "317ee274-b2c7-4f43-8425-e443f262b67e",
   "metadata": {},
   "outputs": [
    {
     "data": {
      "text/plain": [
       "array([[1, 2, 3],\n",
       "       [4, 5, 6]])"
      ]
     },
     "execution_count": 3,
     "metadata": {},
     "output_type": "execute_result"
    }
   ],
   "source": [
    "matriz = np.array([\n",
    "    [1,2,3],\n",
    "    [4,5,6]\n",
    "])\n",
    "matriz"
   ]
  },
  {
   "cell_type": "code",
   "execution_count": 5,
   "id": "c8ed4189-e3c2-4502-a39d-369dc9cf663e",
   "metadata": {},
   "outputs": [
    {
     "data": {
      "text/plain": [
       "(2, 3)"
      ]
     },
     "execution_count": 5,
     "metadata": {},
     "output_type": "execute_result"
    }
   ],
   "source": [
    "matriz.shape"
   ]
  },
  {
   "cell_type": "code",
   "execution_count": 6,
   "id": "b7c8487e-8224-4154-94ad-ff8ab2153107",
   "metadata": {},
   "outputs": [
    {
     "data": {
      "text/plain": [
       "array([[0., 0.],\n",
       "       [0., 0.],\n",
       "       [0., 0.]])"
      ]
     },
     "execution_count": 6,
     "metadata": {},
     "output_type": "execute_result"
    }
   ],
   "source": [
    "np.zeros((3,2))"
   ]
  },
  {
   "cell_type": "code",
   "execution_count": 8,
   "id": "dcba6858-76aa-444c-b979-d87dd4e4f73e",
   "metadata": {},
   "outputs": [
    {
     "data": {
      "text/plain": [
       "array([1., 1., 1.])"
      ]
     },
     "execution_count": 8,
     "metadata": {},
     "output_type": "execute_result"
    }
   ],
   "source": [
    "np.ones((3))"
   ]
  },
  {
   "cell_type": "code",
   "execution_count": 9,
   "id": "cf27927a-182b-4539-972a-844dabc50832",
   "metadata": {},
   "outputs": [
    {
     "data": {
      "text/plain": [
       "array([[1., 0., 0.],\n",
       "       [0., 1., 0.],\n",
       "       [0., 0., 1.]])"
      ]
     },
     "execution_count": 9,
     "metadata": {},
     "output_type": "execute_result"
    }
   ],
   "source": [
    "np.eye(3)"
   ]
  },
  {
   "cell_type": "code",
   "execution_count": 5,
   "id": "4ed78204-4e18-460b-9c3f-4f817998887d",
   "metadata": {},
   "outputs": [
    {
     "data": {
      "text/plain": [
       "array([[1, 2, 4],\n",
       "       [4, 5, 6]])"
      ]
     },
     "execution_count": 5,
     "metadata": {},
     "output_type": "execute_result"
    }
   ],
   "source": [
    "matriz = np.array([[1,2,4,],[4,5,6,]])\n",
    "matriz"
   ]
  },
  {
   "cell_type": "code",
   "execution_count": 6,
   "id": "b351caa5-1501-468c-b2b7-185b3b6ec894",
   "metadata": {},
   "outputs": [
    {
     "data": {
      "text/plain": [
       "15"
      ]
     },
     "execution_count": 6,
     "metadata": {},
     "output_type": "execute_result"
    }
   ],
   "source": [
    "matriz = np.arange(15).reshape(3,5)\n",
    "matriz\n",
    "matriz.shape # cuantas filas y columnas tiene disponible la matriz\n",
    "matriz.ndim # el numero de dimensiones de la matriz\n",
    "matriz.size # l numero totral de elementos que posee la matriz"
   ]
  },
  {
   "cell_type": "code",
   "execution_count": 7,
   "id": "0f929b99-b060-4bfd-b827-c27fcf0d6a99",
   "metadata": {},
   "outputs": [
    {
     "data": {
      "text/plain": [
       "array([[[ 0,  1,  2],\n",
       "        [ 3,  4,  5],\n",
       "        [ 6,  7,  8]],\n",
       "\n",
       "       [[ 9, 10, 11],\n",
       "        [12, 13, 14],\n",
       "        [15, 16, 17]],\n",
       "\n",
       "       [[18, 19, 20],\n",
       "        [21, 22, 23],\n",
       "        [24, 25, 26]]])"
      ]
     },
     "execution_count": 7,
     "metadata": {},
     "output_type": "execute_result"
    }
   ],
   "source": [
    "matriz = np.arange(27).reshape(3,3,3)\n",
    "matriz"
   ]
  },
  {
   "cell_type": "code",
   "execution_count": 13,
   "id": "6e08b06e-5e51-4c9d-a2b5-f24b0a05c118",
   "metadata": {},
   "outputs": [],
   "source": [
    "# diferencia entre una matriz y un array\n",
    "lista = [[1,2,3],[4,5,6]]\n",
    "array = np.array([[1,2,3],[4,5,6]])"
   ]
  },
  {
   "cell_type": "code",
   "execution_count": 14,
   "id": "b4b9cbf4-53d8-45ac-9646-0fb48b5c0950",
   "metadata": {},
   "outputs": [
    {
     "data": {
      "text/plain": [
       "72"
      ]
     },
     "execution_count": 14,
     "metadata": {},
     "output_type": "execute_result"
    }
   ],
   "source": [
    "# verificamos el tamaño en byte de un objeto\n",
    "sys.getsizeof(lista)"
   ]
  },
  {
   "cell_type": "code",
   "execution_count": 15,
   "id": "c222bf46-c7e5-48b2-9a72-ab938f59e561",
   "metadata": {},
   "outputs": [
    {
     "data": {
      "text/plain": [
       "168"
      ]
     },
     "execution_count": 15,
     "metadata": {},
     "output_type": "execute_result"
    }
   ],
   "source": [
    "sys.getsizeof(array) # el array es pequeño no se ve la diferencia con array rinde mas la memoria"
   ]
  },
  {
   "cell_type": "code",
   "execution_count": 19,
   "id": "e8a5bdf6-e3a4-4f9d-9137-37421cbf1939",
   "metadata": {},
   "outputs": [
    {
     "name": "stdout",
     "output_type": "stream",
     "text": [
      "2.83 ms ± 19.4 µs per loop (mean ± std. dev. of 7 runs, 100 loops each)\n"
     ]
    }
   ],
   "source": [
    "%%timeit\n",
    "\n",
    "sum(range(100000))"
   ]
  },
  {
   "cell_type": "code",
   "execution_count": 21,
   "id": "45cdd06a-aee9-4b0d-a91e-1f4b0ec3bd3b",
   "metadata": {},
   "outputs": [
    {
     "data": {
      "text/plain": [
       "dtype('float64')"
      ]
     },
     "execution_count": 21,
     "metadata": {},
     "output_type": "execute_result"
    }
   ],
   "source": [
    "np.array([1.3,2.4]).dtype"
   ]
  },
  {
   "cell_type": "code",
   "execution_count": 20,
   "id": "2e7f827f-6e60-4103-abb9-97fe4a4738d8",
   "metadata": {},
   "outputs": [
    {
     "name": "stdout",
     "output_type": "stream",
     "text": [
      "231 µs ± 2.32 µs per loop (mean ± std. dev. of 7 runs, 1000 loops each)\n"
     ]
    }
   ],
   "source": [
    "%%timeit\n",
    "np.sum(np.arange(100000))"
   ]
  },
  {
   "cell_type": "code",
   "execution_count": 22,
   "id": "273e609b-fc06-48f3-8072-2a522faad7d9",
   "metadata": {},
   "outputs": [
    {
     "data": {
      "text/plain": [
       "array([[ 1,  2,  3,  4],\n",
       "       [ 5,  6,  7,  8],\n",
       "       [ 9, 10, 11, 12]])"
      ]
     },
     "execution_count": 22,
     "metadata": {},
     "output_type": "execute_result"
    }
   ],
   "source": [
    "matriz_34 = np.array([[1,2,3,4],[5,6,7,8],[9,10,11,12]])\n",
    "matriz_34"
   ]
  },
  {
   "cell_type": "code",
   "execution_count": 24,
   "id": "9f7b00da-3ee4-4e57-8c92-2f74a902483c",
   "metadata": {},
   "outputs": [
    {
     "data": {
      "text/plain": [
       "array([1, 2, 3, 4])"
      ]
     },
     "execution_count": 24,
     "metadata": {},
     "output_type": "execute_result"
    }
   ],
   "source": [
    "matriz_34[0]"
   ]
  },
  {
   "cell_type": "code",
   "execution_count": 25,
   "id": "473b1623-304c-4424-9f21-4b169d63e36d",
   "metadata": {},
   "outputs": [
    {
     "data": {
      "text/plain": [
       "array([[1, 2, 3, 4],\n",
       "       [5, 6, 7, 8]])"
      ]
     },
     "execution_count": 25,
     "metadata": {},
     "output_type": "execute_result"
    }
   ],
   "source": [
    "matriz_34[:2]"
   ]
  },
  {
   "cell_type": "code",
   "execution_count": 27,
   "id": "ea541b9c-6e66-4e0f-8656-02a9103d6887",
   "metadata": {},
   "outputs": [
    {
     "data": {
      "text/plain": [
       "array([ 2,  6, 10])"
      ]
     },
     "execution_count": 27,
     "metadata": {},
     "output_type": "execute_result"
    }
   ],
   "source": [
    "matriz_34[:,1] # seleccionamos el segundo elemento de cada sila"
   ]
  },
  {
   "cell_type": "code",
   "execution_count": 28,
   "id": "ab80fe5b-747a-45b8-b642-966421c76ba0",
   "metadata": {},
   "outputs": [
    {
     "data": {
      "text/plain": [
       "6"
      ]
     },
     "execution_count": 28,
     "metadata": {},
     "output_type": "execute_result"
    }
   ],
   "source": [
    "matriz_34[1,1] # seleccionamos el segundo elemento de la fila 2"
   ]
  },
  {
   "cell_type": "code",
   "execution_count": 29,
   "id": "8836b171-833a-4e40-8d36-a1329cc37d1a",
   "metadata": {},
   "outputs": [
    {
     "data": {
      "text/plain": [
       "array([ 5,  7,  9, 11, 13])"
      ]
     },
     "execution_count": 29,
     "metadata": {},
     "output_type": "execute_result"
    }
   ],
   "source": [
    "m1 = np.array([0,1,2,3,4])\n",
    "m2= np.array([5,6,7,8,9])\n",
    "m1+m2"
   ]
  },
  {
   "cell_type": "code",
   "execution_count": 32,
   "id": "355f80b5-7139-4b79-99bd-6705d2660d68",
   "metadata": {},
   "outputs": [
    {
     "data": {
      "text/plain": [
       "array([[ 1,  6, 11],\n",
       "       [ 2,  7, 12],\n",
       "       [ 3,  8, 13],\n",
       "       [ 4,  9, 14],\n",
       "       [ 5, 10, 15]])"
      ]
     },
     "execution_count": 32,
     "metadata": {},
     "output_type": "execute_result"
    }
   ],
   "source": [
    "array = np.array([[1,6,11],\n",
    "                  [2,7,12],\n",
    "                  [3,8,13],\n",
    "                  [4,9,14],\n",
    "                  [5,10,15]\n",
    "                ])\n",
    "array"
   ]
  },
  {
   "cell_type": "code",
   "execution_count": 33,
   "id": "e0005882-ddd0-4883-beed-0cfa7336b45b",
   "metadata": {},
   "outputs": [
    {
     "data": {
      "text/plain": [
       "(5, 3)"
      ]
     },
     "execution_count": 33,
     "metadata": {},
     "output_type": "execute_result"
    }
   ],
   "source": [
    "array.shape # forma del array"
   ]
  },
  {
   "cell_type": "code",
   "execution_count": 36,
   "id": "e5dba893-3ed9-49f1-9e09-ba9aa360e873",
   "metadata": {},
   "outputs": [
    {
     "data": {
      "text/plain": [
       "array([ 6,  7,  8,  9, 10])"
      ]
     },
     "execution_count": 36,
     "metadata": {},
     "output_type": "execute_result"
    }
   ],
   "source": [
    "array[:,1] #seleccionamos 2da columna"
   ]
  },
  {
   "cell_type": "code",
   "execution_count": 38,
   "id": "37e38df8-b4ff-44d0-98d6-b5e5775b8503",
   "metadata": {},
   "outputs": [
    {
     "data": {
      "text/plain": [
       "array([15, 16, 17, 18, 19, 20, 21, 22, 23, 24, 25, 26, 27, 28, 29, 30, 31,\n",
       "       32, 33, 34, 35, 36, 37, 38, 39, 40, 41, 42, 43, 44, 45, 46, 47, 48,\n",
       "       49, 50, 51, 52, 53, 54, 55])"
      ]
     },
     "execution_count": 38,
     "metadata": {},
     "output_type": "execute_result"
    }
   ],
   "source": [
    "array2 = np.arange(15,56) #creamos vector\n",
    "array2"
   ]
  },
  {
   "cell_type": "code",
   "execution_count": 39,
   "id": "9ac01543-5f85-4296-b44c-c2cb33d1c86e",
   "metadata": {},
   "outputs": [
    {
     "data": {
      "text/plain": [
       "array([15, 16, 17, 18, 23, 20, 21, 22, 23, 24, 25, 26, 27, 28, 29, 30, 31,\n",
       "       32, 33, 34, 35, 36, 37, 38, 39, 40, 41, 42, 43, 44, 45, 46, 47, 48,\n",
       "       49, 50, 51, 52, 53, 54, 55])"
      ]
     },
     "execution_count": 39,
     "metadata": {},
     "output_type": "execute_result"
    }
   ],
   "source": [
    "array2[4]= 23 #cambiamos el valor en la quinta pocision\n",
    "array2"
   ]
  },
  {
   "cell_type": "code",
   "execution_count": 41,
   "id": "195dec1a-b7db-49a2-bafb-cb39c2d04e26",
   "metadata": {},
   "outputs": [
    {
     "data": {
      "text/plain": [
       "array([55, 54, 53, 52, 51, 50, 49, 48, 47, 46, 45, 44, 43, 42, 41, 40, 39,\n",
       "       38, 37, 36, 35, 34, 33, 32, 31, 30, 29, 28, 27, 26, 25, 24, 23, 22,\n",
       "       21, 20, 23, 18, 17, 16, 15])"
      ]
     },
     "execution_count": 41,
     "metadata": {},
     "output_type": "execute_result"
    }
   ],
   "source": [
    "np.flip(array2) # invertimos el array"
   ]
  },
  {
   "cell_type": "code",
   "execution_count": 42,
   "id": "aa6154e9-b98b-484b-9adf-604fe99266ea",
   "metadata": {},
   "outputs": [
    {
     "data": {
      "text/plain": [
       "array([55, 54, 53, 52, 51, 50, 49, 48, 47, 46, 45, 44, 43, 42, 41, 40, 39,\n",
       "       38, 37, 36, 35, 34, 33, 32, 31, 30, 29, 28, 27, 26, 25, 24, 23, 22,\n",
       "       21, 20, 23, 18, 17, 16, 15])"
      ]
     },
     "execution_count": 42,
     "metadata": {},
     "output_type": "execute_result"
    }
   ],
   "source": [
    "array2[::-1] # otra forma de invertir el array"
   ]
  },
  {
   "cell_type": "code",
   "execution_count": 44,
   "id": "7ed8cb12-bd05-43aa-ac28-2a9e7059a741",
   "metadata": {},
   "outputs": [
    {
     "data": {
      "text/plain": [
       "array([[16,  0,  0,  0,  0],\n",
       "       [ 0, 18,  0,  0,  0],\n",
       "       [ 0,  0, 20,  0,  0],\n",
       "       [ 0,  0,  0, 22,  0],\n",
       "       [ 0,  0,  0,  0, 24]])"
      ]
     },
     "execution_count": 44,
     "metadata": {},
     "output_type": "execute_result"
    }
   ],
   "source": [
    "matriz_diagonal =np.diag(array2[1::2][:5]) #matriz diagonal con valores pares de array2\n",
    "matriz_diagonal"
   ]
  },
  {
   "cell_type": "code",
   "execution_count": 45,
   "id": "c2627757-6a57-48f0-8989-d066dd46004a",
   "metadata": {},
   "outputs": [
    {
     "data": {
      "text/plain": [
       "2"
      ]
     },
     "execution_count": 45,
     "metadata": {},
     "output_type": "execute_result"
    }
   ],
   "source": [
    "matriz_diagonal.ndim"
   ]
  },
  {
   "cell_type": "code",
   "execution_count": 47,
   "id": "ae37152f-2889-46b0-891b-4e0e03fc47ba",
   "metadata": {},
   "outputs": [
    {
     "data": {
      "text/plain": [
       "array([[0.06483607, 0.40234654, 0.74980931],\n",
       "       [0.90517263, 0.61195284, 0.44875211],\n",
       "       [0.09095448, 0.04230424, 0.11718934],\n",
       "       [0.47737453, 0.53575708, 0.4559189 ],\n",
       "       [0.55547062, 0.42052929, 0.78640271]])"
      ]
     },
     "execution_count": 47,
     "metadata": {},
     "output_type": "execute_result"
    }
   ],
   "source": [
    "matriz2 = np.random.random((5,3)) # matriz con numeros aleatorios\n",
    "matriz2"
   ]
  },
  {
   "cell_type": "code",
   "execution_count": 48,
   "id": "719cd399-8265-4564-94bf-9e66393bd11a",
   "metadata": {},
   "outputs": [
    {
     "data": {
      "text/plain": [
       "(5, 3)"
      ]
     },
     "execution_count": 48,
     "metadata": {},
     "output_type": "execute_result"
    }
   ],
   "source": [
    "matriz2.shape"
   ]
  },
  {
   "cell_type": "code",
   "execution_count": 49,
   "id": "cdf0ffcb-058d-4c14-8eea-2ec87399e22f",
   "metadata": {},
   "outputs": [
    {
     "data": {
      "text/plain": [
       "(5, 5)"
      ]
     },
     "execution_count": 49,
     "metadata": {},
     "output_type": "execute_result"
    }
   ],
   "source": [
    "matriz_diagonal.shape"
   ]
  },
  {
   "cell_type": "code",
   "execution_count": 51,
   "id": "b1d41b0d-ef30-43f9-9d3b-30e4eb3b768d",
   "metadata": {},
   "outputs": [
    {
     "data": {
      "text/plain": [
       "array([[0.06483607, 0.90517263, 0.09095448, 0.47737453, 0.55547062],\n",
       "       [0.40234654, 0.61195284, 0.04230424, 0.53575708, 0.42052929],\n",
       "       [0.74980931, 0.44875211, 0.11718934, 0.4559189 , 0.78640271]])"
      ]
     },
     "execution_count": 51,
     "metadata": {},
     "output_type": "execute_result"
    }
   ],
   "source": [
    "matriz_T = matriz2.T #trapuestas de un matriz para poder multipicarla\n",
    "matriz_T"
   ]
  },
  {
   "cell_type": "code",
   "execution_count": 52,
   "id": "a6558ff0-7ab1-42d0-9698-e1d176b72398",
   "metadata": {},
   "outputs": [
    {
     "data": {
      "text/plain": [
       "array([[ 1.03737719, 16.29310738,  1.81908967, 10.50223975, 13.33129477],\n",
       "       [ 6.43754462, 11.01515112,  0.84608477, 11.78665565, 10.09270307],\n",
       "       [11.99694901,  8.07753797,  2.34378685, 10.03021586, 18.87366513]])"
      ]
     },
     "execution_count": 52,
     "metadata": {},
     "output_type": "execute_result"
    }
   ],
   "source": [
    "matriz_T @ matriz_diagonal"
   ]
  },
  {
   "cell_type": "markdown",
   "id": "26df0731-570a-4c27-bf8f-7c4fe0165e4d",
   "metadata": {},
   "source": [
    "### version de Numpy"
   ]
  },
  {
   "cell_type": "code",
   "execution_count": 9,
   "id": "c5282b01-1e1e-4618-873c-bd576c52d033",
   "metadata": {},
   "outputs": [
    {
     "data": {
      "text/plain": [
       "'1.20.1'"
      ]
     },
     "execution_count": 9,
     "metadata": {},
     "output_type": "execute_result"
    }
   ],
   "source": [
    "np.__version__"
   ]
  },
  {
   "cell_type": "code",
   "execution_count": 10,
   "id": "2974207a-297a-4fbc-be7c-8271c035d737",
   "metadata": {},
   "outputs": [
    {
     "data": {
      "text/plain": [
       "array([0., 0., 0., 0., 0., 0., 0., 0., 0., 0.])"
      ]
     },
     "execution_count": 10,
     "metadata": {},
     "output_type": "execute_result"
    }
   ],
   "source": [
    "cero = np.zeros(10)\n",
    "cero"
   ]
  },
  {
   "cell_type": "code",
   "execution_count": 11,
   "id": "3f67479e-8017-4fd8-8fa1-ac44b9f82618",
   "metadata": {},
   "outputs": [
    {
     "data": {
      "text/plain": [
       "array([1., 1., 1., 1., 1., 1., 1., 1., 1., 1.])"
      ]
     },
     "execution_count": 11,
     "metadata": {},
     "output_type": "execute_result"
    }
   ],
   "source": [
    "one = np.ones(10)\n",
    "one"
   ]
  },
  {
   "cell_type": "code",
   "execution_count": 12,
   "id": "7550846c-5374-4230-81e4-bc605c1f1352",
   "metadata": {},
   "outputs": [
    {
     "data": {
      "text/plain": [
       "array([8., 8., 8., 8., 8., 8., 8., 8., 8., 8.])"
      ]
     },
     "execution_count": 12,
     "metadata": {},
     "output_type": "execute_result"
    }
   ],
   "source": [
    "one = np.ones(10)*8\n",
    "one"
   ]
  },
  {
   "cell_type": "raw",
   "id": "72005bca-23b1-45f7-b83c-aba6017c658a",
   "metadata": {},
   "source": []
  },
  {
   "cell_type": "markdown",
   "id": "66f1cfb2-b119-4ea4-833d-362bbb96947a",
   "metadata": {},
   "source": [
    "### Funcion arange()"
   ]
  },
  {
   "cell_type": "code",
   "execution_count": 13,
   "id": "d081734c-d5fe-4992-b6d9-792734d571c1",
   "metadata": {},
   "outputs": [
    {
     "data": {
      "text/plain": [
       "array([20, 21, 22, 23, 24, 25, 26, 27, 28, 29, 30, 31, 32, 33, 34, 35, 36,\n",
       "       37, 38, 39, 40, 41, 42, 43, 44, 45, 46, 47, 48, 49, 50])"
      ]
     },
     "execution_count": 13,
     "metadata": {},
     "output_type": "execute_result"
    }
   ],
   "source": [
    "ar = np.arange(20,51)\n",
    "ar\n"
   ]
  },
  {
   "cell_type": "code",
   "execution_count": 14,
   "id": "f5884af3-985f-4fd0-ae92-0147daeaa10a",
   "metadata": {},
   "outputs": [
    {
     "data": {
      "text/plain": [
       "array([20, 22, 24, 26, 28, 30, 32, 34, 36, 38, 40, 42, 44, 46, 48, 50])"
      ]
     },
     "execution_count": 14,
     "metadata": {},
     "output_type": "execute_result"
    }
   ],
   "source": [
    "ar = np.arange(20,51,2) # numeros pares\n",
    "ar"
   ]
  },
  {
   "cell_type": "code",
   "execution_count": 15,
   "id": "f02dd565-3131-42a0-9aed-9f4abf3768a2",
   "metadata": {},
   "outputs": [
    {
     "data": {
      "text/plain": [
       "array([ 0,  1,  2,  3,  4,  5,  6,  7,  8,  9, 10, 11, 12, 13, 14, 15, 16,\n",
       "       17, 18, 19])"
      ]
     },
     "execution_count": 15,
     "metadata": {},
     "output_type": "execute_result"
    }
   ],
   "source": [
    "ar = np.arange(0,20)\n",
    "ar"
   ]
  },
  {
   "cell_type": "code",
   "execution_count": 16,
   "id": "7f13b766-92b2-438b-9c9b-f080fd01d1b5",
   "metadata": {},
   "outputs": [
    {
     "data": {
      "text/plain": [
       "array([15, 16, 17, 18, 19, 20, 21, 22, 23, 24, 25, 26, 27, 28, 29, 30, 31,\n",
       "       32, 33, 34, 35, 36, 37, 38, 39, 40, 41, 42, 43, 44, 45, 46, 47, 48,\n",
       "       49, 50, 51, 52, 53, 54])"
      ]
     },
     "execution_count": 16,
     "metadata": {},
     "output_type": "execute_result"
    }
   ],
   "source": [
    "ar = np.arange(15,55)\n",
    "ar"
   ]
  },
  {
   "cell_type": "code",
   "execution_count": 17,
   "id": "f8009403-63b7-463c-b5f5-2bd71cea8e7a",
   "metadata": {},
   "outputs": [
    {
     "data": {
      "text/plain": [
       "array([16, 17, 18, 19, 20, 21, 22, 23, 24, 25, 26, 27, 28, 29, 30, 31, 32,\n",
       "       33, 34, 35, 36, 37, 38, 39, 40, 41, 42, 43, 44, 45, 46, 47, 48, 49,\n",
       "       50, 51, 52, 53])"
      ]
     },
     "execution_count": 17,
     "metadata": {},
     "output_type": "execute_result"
    }
   ],
   "source": [
    "ar[1:-1]"
   ]
  },
  {
   "cell_type": "code",
   "execution_count": 18,
   "id": "4f4fb8da-d69c-427a-b60e-1abe9646e0d0",
   "metadata": {},
   "outputs": [
    {
     "data": {
      "text/plain": [
       "array([[ 1,  2,  3],\n",
       "       [ 4,  5,  6],\n",
       "       [ 7,  8,  9],\n",
       "       [10, 11, 12]])"
      ]
     },
     "execution_count": 18,
     "metadata": {},
     "output_type": "execute_result"
    }
   ],
   "source": [
    "matriz = np.arange(1,13).reshape((4,3))#dimenciones a la matriz\n",
    "matriz"
   ]
  },
  {
   "cell_type": "code",
   "execution_count": 19,
   "id": "38cb05d4-054d-4430-8ad6-dc5d73c2fe94",
   "metadata": {},
   "outputs": [
    {
     "name": "stdout",
     "output_type": "stream",
     "text": [
      "1 2 3 4 5 6 7 8 9 10 11 12 "
     ]
    }
   ],
   "source": [
    "for elemento in np.nditer(matriz):#iterar los elementos dentro de la matriz\n",
    "    print(elemento,end = ' ')"
   ]
  },
  {
   "cell_type": "markdown",
   "id": "bddaca97-0d99-44b3-b1e7-496897842e2a",
   "metadata": {},
   "source": [
    "### linspace (distribucion uniforme)"
   ]
  },
  {
   "cell_type": "code",
   "execution_count": 24,
   "id": "51ca58c5-30b2-46f9-a473-f0e9f117e684",
   "metadata": {},
   "outputs": [
    {
     "data": {
      "text/plain": [
       "array([10., 20., 30., 40., 50.])"
      ]
     },
     "execution_count": 24,
     "metadata": {},
     "output_type": "execute_result"
    }
   ],
   "source": [
    "arre = np.linspace(10,50,5) \n",
    "arre"
   ]
  },
  {
   "cell_type": "markdown",
   "id": "58f3b4b1-b30e-4c4b-bcff-c67c7844a2ed",
   "metadata": {},
   "source": [
    "### Identidad"
   ]
  },
  {
   "cell_type": "code",
   "execution_count": 21,
   "id": "6c73fbc1-ddc7-497e-a65d-c403222df848",
   "metadata": {},
   "outputs": [
    {
     "data": {
      "text/plain": [
       "array([[1., 0., 0.],\n",
       "       [0., 1., 0.],\n",
       "       [0., 0., 1.]])"
      ]
     },
     "execution_count": 21,
     "metadata": {},
     "output_type": "execute_result"
    }
   ],
   "source": [
    "ident = np.identity(3)\n",
    "ident"
   ]
  },
  {
   "cell_type": "markdown",
   "id": "1c1bd6af-da52-457a-84d9-69b2d77312a1",
   "metadata": {},
   "source": [
    "### Aleatorio"
   ]
  },
  {
   "cell_type": "code",
   "execution_count": 22,
   "id": "7086afef-c631-45f8-b37d-91cff2285adb",
   "metadata": {},
   "outputs": [
    {
     "data": {
      "text/plain": [
       "0.597680215222285"
      ]
     },
     "execution_count": 22,
     "metadata": {},
     "output_type": "execute_result"
    }
   ],
   "source": [
    "aleat = np.random.random()\n",
    "aleat"
   ]
  },
  {
   "cell_type": "code",
   "execution_count": 25,
   "id": "0679a552-a654-49a5-9607-d59e6dd7fff7",
   "metadata": {},
   "outputs": [
    {
     "data": {
      "text/plain": [
       "array([-1.71389958, -0.20603884, -0.1852869 ,  0.48663171,  0.71425085,\n",
       "        0.01842033,  0.34193833,  0.70186717,  0.78093523, -0.11558198])"
      ]
     },
     "execution_count": 25,
     "metadata": {},
     "output_type": "execute_result"
    }
   ],
   "source": [
    "aleat = np.random.normal(0,1,10)\n",
    "aleat"
   ]
  },
  {
   "cell_type": "code",
   "execution_count": null,
   "id": "d81063ff-98c4-41b6-adf8-7b63f8b2e4e2",
   "metadata": {},
   "outputs": [],
   "source": []
  },
  {
   "cell_type": "code",
   "execution_count": null,
   "id": "e2bfd852-d906-41e5-b85a-d30e06ae8418",
   "metadata": {},
   "outputs": [],
   "source": []
  }
 ],
 "metadata": {
  "kernelspec": {
   "display_name": "Python 3",
   "language": "python",
   "name": "python3"
  },
  "language_info": {
   "codemirror_mode": {
    "name": "ipython",
    "version": 3
   },
   "file_extension": ".py",
   "mimetype": "text/x-python",
   "name": "python",
   "nbconvert_exporter": "python",
   "pygments_lexer": "ipython3",
   "version": "3.8.8"
  }
 },
 "nbformat": 4,
 "nbformat_minor": 5
}
